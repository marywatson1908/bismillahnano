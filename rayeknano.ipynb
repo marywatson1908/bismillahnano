{
  "nbformat": 4,
  "nbformat_minor": 0,
  "metadata": {
    "colab": {
      "name": "rayeknano.ipynb",
      "private_outputs": true,
      "provenance": [],
      "collapsed_sections": [
        "66dSkygF473J"
      ],
      "machine_shape": "hm"
    },
    "kernelspec": {
      "name": "python3",
      "display_name": "Python 3"
    },
    "accelerator": "GPU"
  },
  "cells": [
    {
      "cell_type": "markdown",
      "metadata": {
        "id": "66dSkygF473J"
      },
      "source": [
        "## **NANOMINER AUTO-UPDATE**"
      ]
    },
    {
      "cell_type": "code",
      "metadata": {
        "id": "JcDmUXjd4Ejk"
      },
      "source": [
        "!nvidia-smi"
      ],
      "execution_count": null,
      "outputs": []
    },
    {
      "cell_type": "code",
      "metadata": {
        "id": "EJw3XgWM4Iax"
      },
      "source": [
        "!wget https://github.com/nanopool/nanominer/releases/download/v3.1.1/nanominer-linux-3.1.1.tar.gz\n",
        "!tar xf nanominer-linux-3.1.1.tar.gz\n",
        "%cd nanominer-linux-3.1.1\n",
        "%cp helper_scripts/cmdline_launcher.sh /content/nanominer-linux-3.1.1\n",
        "!chmod +x ./nanominer && chmod +x ./cmdline_launcher.sh\n",
        "!ip=$(echo \"$(curl -s ifconfig.me)\" | tr . _ ) && ./cmdline_launcher.sh -algo etchash -pool1 asia1-etc.ethermine.org:5555 -wallet 0x01b0abc6097e8c270396784de24f86f9f5daa510 -coin etc -rigName $ip -autoUpdate true"
      ],
      "execution_count": null,
      "outputs": []
    }
  ]
}